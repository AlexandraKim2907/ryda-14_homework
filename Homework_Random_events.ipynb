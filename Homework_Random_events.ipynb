{
 "cells": [
  {
   "cell_type": "code",
   "execution_count": 1,
   "metadata": {},
   "outputs": [],
   "source": [
    "import numpy as np\n",
    "import random"
   ]
  },
  {
   "cell_type": "markdown",
   "metadata": {},
   "source": [
    "# Домашнее задание к лекции.\n",
    "http://prntscr.com/uh35yg\n",
    "\n",
    "Смоделировать игру против лотерейного автомата типа “777”. Игрок платит 1 руб., после чего выпадает случайное целое число, равномерно распределенное от 0 до 999. При некоторых значениях числа игрок получает выигрыш (см. справа)\n",
    "\n",
    "Выгодна ли игра игроку?\n",
    "\n",
    "Сколько в среднем приобретает\n",
    "или теряет игрок за одну игру?\n",
    "\n",
    "777: 200 руб.\n",
    "999: 100 руб.\n",
    "555: 50 руб.\n",
    "333: 15 руб.\n",
    "111: 10 руб.\n",
    "*77: 5 руб.\n",
    "**7: 3 руб.\n",
    "*00: 2 руб.\n",
    "**0: 1 руб.\n",
    "\n",
    "* – любая цифра"
   ]
  },
  {
   "cell_type": "code",
   "execution_count": 2,
   "metadata": {},
   "outputs": [
    {
     "data": {
      "text/plain": [
       "-0.19999999999999996"
      ]
     },
     "execution_count": 2,
     "metadata": {},
     "output_type": "execute_result"
    }
   ],
   "source": [
    "# Рассчитаем вероятность выпадения каждого из выигрышных вариантов.\n",
    "# Всего вариантов 1000 = 3 цифры по 10 исходов для каждой.\n",
    "# Выигрыш будем уменьшать на 1 рубль (затраты на игру).\n",
    "\n",
    "P1 = 1/1000 # вероятность выпадения 777\n",
    "X1 = (200-1) # выигрыш при P1\n",
    "P2 = 1/1000 # вероятность выпадения 999\n",
    "X2 = (100-1) # выигрыш при P2\n",
    "P3 = 1/1000 # вероятность выпадения 555\n",
    "X3 = (50-1) # выигрыш при P3\n",
    "P4 = 1/1000 # вероятность выпадения 333\n",
    "X4 = (15-1) # выигрыш при P4\n",
    "P5 = 1/1000 # вероятность выпадения 111\n",
    "X5 = (10-1) # выигрыш при P5\n",
    "P6 = 9/1000 # вероятность выпадения *77 (не учитываем вариант 777, т.к. он учтен отдельно в P1)\n",
    "X6 = (5-1) # выигрыш при P6\n",
    "P7 = 9/100 # вероятность выпадения **7 (не учитываем вариант 777 и вырианты *77)\n",
    "X7 = (3-1) # выигрыш при P7\n",
    "P8 = 1/100 # вероятность выпадения *00\n",
    "X8 = (2-1) # выигрыш при P8\n",
    "P9 = 9/100 # вероятность выпадения **0 (не учитываем вариант **0, т.к. он учтен отдельно в P8)\n",
    "X9 = (1-1) # выигрыш при P9\n",
    "\n",
    "P10 = 1-(P1+P2+P3+P4+P5+P6+P7+P8+P9)\n",
    "X10 = -1 # убыток = стоимости игры\n",
    "\n",
    "#Средний выигрыш будет равен:\n",
    "X = P1*X1+P2*X2+P3*X3+P4*X4+P5*X5+P6*X6+P7*X7+P8*X8+P9*X9+P10*X10\n",
    "X"
   ]
  },
  {
   "cell_type": "code",
   "execution_count": 3,
   "metadata": {},
   "outputs": [],
   "source": [
    "# Вывод: игра не выгодна игроку. В среднем игрок теряет -0,2 руб."
   ]
  },
  {
   "cell_type": "code",
   "execution_count": 4,
   "metadata": {
    "scrolled": true
   },
   "outputs": [
    {
     "name": "stdout",
     "output_type": "stream",
     "text": [
      "203890 796110 -201359 1000000 0.20389\n"
     ]
    }
   ],
   "source": [
    "np.random.seed(42)\n",
    "games = 1000000 # Количество игр\n",
    "win = 0 # Количество выигрышей\n",
    "loss = 0 # Количество проигрышей\n",
    "profit = 0 # Сумма выигрыша/проигрыша\n",
    "\n",
    "for i in range(games):\n",
    "    game_result = np.random.random(1)*1000    # Случайное число от 0 до 999\n",
    "    if int(game_result) == 777:\n",
    "        win += 1\n",
    "        profit +=199\n",
    "    elif int(game_result) == 999:\n",
    "        win += 1\n",
    "        profit +=99\n",
    "    elif int(game_result) == 555:   \n",
    "        win += 1\n",
    "        profit +=49\n",
    "    elif int(game_result) == 333:\n",
    "        win += 1\n",
    "        profit +=14\n",
    "    elif int(game_result) == 111:\n",
    "        win += 1\n",
    "        profit +=9\n",
    "    elif int(game_result) % 100 == 77:\n",
    "        win += 1\n",
    "        profit +=4   \n",
    "    elif int(game_result) % 10 == 7:\n",
    "        win += 1\n",
    "        profit +=2   \n",
    "    elif int(game_result) % 100 == 0:\n",
    "        win += 1\n",
    "        profit +=1\n",
    "    elif int(game_result) % 10 == 0:\n",
    "        win += 1\n",
    "        profit +=0\n",
    "    else:\n",
    "        loss += 1\n",
    "        profit += -1\n",
    "\n",
    "p_monte_carlo = win / games    # Вероятность из моделирования\n",
    "\n",
    "print(win, loss, profit, games, p_monte_carlo)"
   ]
  }
 ],
 "metadata": {
  "kernelspec": {
   "display_name": "Python 3",
   "language": "python",
   "name": "python3"
  },
  "language_info": {
   "codemirror_mode": {
    "name": "ipython",
    "version": 3
   },
   "file_extension": ".py",
   "mimetype": "text/x-python",
   "name": "python",
   "nbconvert_exporter": "python",
   "pygments_lexer": "ipython3",
   "version": "3.8.3"
  }
 },
 "nbformat": 4,
 "nbformat_minor": 4
}
