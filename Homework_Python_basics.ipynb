{
 "cells": [
  {
   "cell_type": "code",
   "execution_count": 12,
   "metadata": {},
   "outputs": [
    {
     "name": "stdout",
     "output_type": "stream",
     "text": [
      "Фраза 1 длиннее Фразы 2\n",
      "Конец программы\n"
     ]
    }
   ],
   "source": [
    "# Задача №1\n",
    "\n",
    "phrase_1 = 'Насколько проще было бы писать программы, если бы не заказчики'\n",
    "phrase_2 = '640Кб должно хватить для любых задач. Билл Гейтс (по легенде)'\n",
    "if len(phrase_1) > len(phrase_2): print('Фраза 1 длиннее Фразы 2')\n",
    "elif len(phrase_1) != len(phrase_2): print('Фраза 2 длиннее Фразы 1')\n",
    "print('Конец программы')"
   ]
  },
  {
   "cell_type": "code",
   "execution_count": 2,
   "metadata": {},
   "outputs": [
    {
     "name": "stdout",
     "output_type": "stream",
     "text": [
      "Фраза 1 длиннее Фразы 2\n",
      "Конец программы\n"
     ]
    }
   ],
   "source": [
    "# Задача №1, если отражать результат с равенством фраз тоже\n",
    "\n",
    "phrase_1 = 'Насколько проще было бы писать программы, если бы не заказчики'\n",
    "phrase_2 = '640Кб должно хватить для любых задач. Билл Гейтс (по легенде)'\n",
    "if len(phrase_1) > len(phrase_2): print('Фраза 1 длиннее Фразы 2')\n",
    "elif len(phrase_1) < len(phrase_2): print('Фраза 2 длиннее Фразы 1')\n",
    "else: print ('Фраза 1 равна Фразе 2') \n",
    "print('Конец программы')"
   ]
  },
  {
   "cell_type": "code",
   "execution_count": 3,
   "metadata": {},
   "outputs": [
    {
     "name": "stdout",
     "output_type": "stream",
     "text": [
      "Невисокосный год\n",
      "Конец программы\n"
     ]
    }
   ],
   "source": [
    "# Задача №2\n",
    "\n",
    "year = 2025\n",
    "if (year % 4 ==0) and (year % 100 !=0) or (year % 400 ==0): print('Високосный год')\n",
    "else: print('Невисокосный год')\n",
    "print('Конец программы')"
   ]
  },
  {
   "cell_type": "code",
   "execution_count": 4,
   "metadata": {},
   "outputs": [
    {
     "name": "stdout",
     "output_type": "stream",
     "text": [
      "Введите месяц рождения: сентябрь\n",
      "Введите дату рожения: 13\n",
      "Ваш знак зодиака: Дева\n",
      "Конец програмы\n"
     ]
    }
   ],
   "source": [
    "# Задача №3\n",
    "\n",
    "user_input_1 = (input('Введите месяц рождения: '))\n",
    "user_input_2 = int(input('Введите дату рожения: '))\n",
    "if (user_input_2 > 31): print('FALSE')\n",
    "elif (user_input_2 >= 21) and (user_input_1 == \"март\") or (user_input_2 <=20) and (user_input_1 == \"апрель\"): print('Ваш знак зодиака: Овен')\n",
    "elif (user_input_2 >= 21) and (user_input_1 == \"апрель\") or (user_input_2 <=21) and (user_input_1 == \"май\"): print('Ваш знак зодиака: Телец')\n",
    "elif (user_input_2 >= 22) and (user_input_1 == \"май\") or (user_input_2 <=21) and (user_input_1 == \"июнь\"): print('Ваш знак зодиака: Близнец')\n",
    "elif (user_input_2 >= 22) and (user_input_1 == \"июнь\") or (user_input_2 <=22) and (user_input_1 == \"июль\"): print('Ваш знак зодиака: Рак')\n",
    "elif (user_input_2 >= 23) and (user_input_1 == \"июль\") or (user_input_2 <=23) and (user_input_1 == \"август\"): print('Ваш знак зодиака: Лев')\n",
    "elif (user_input_2 >= 24) and (user_input_1 == \"август\") or (user_input_2 <=22) and (user_input_1 == \"сентябрь\"): print('Ваш знак зодиака: Дева')\n",
    "elif (user_input_2 >= 23) and (user_input_1 == \"сентябрь\") or (user_input_2 <=22) and (user_input_1 == \"октябрь\"): print('Ваш знак зодиака: Весы')\n",
    "elif (user_input_2 >= 23) and (user_input_1 == \"октябрь\") or (user_input_2 <=22) and (user_input_1 == \"ноябрь\"): print('Ваш знак зодиака: Скорпион')\n",
    "elif (user_input_2 >= 23) and (user_input_1 == \"ноябрь\") or (user_input_2 <=21) and (user_input_1 == \"декабрь\"): print('Ваш знак зодиака: Стрелец')\n",
    "elif (user_input_2 >= 22) and (user_input_1 == \"декабрь\") or (user_input_2 <=20) and (user_input_1 == \"январь\"): print('Ваш знак зодиака: Козерог')\n",
    "elif (user_input_2 >= 21) and (user_input_1 == \"январь\") or (user_input_2 <=19) and (user_input_1 == \"февраль\"): print('Ваш знак зодиака: Водолей')\n",
    "elif (user_input_2 >= 20) and (user_input_1 == \"февраль\") or (user_input_2 <=20) and (user_input_1 == \"март\"): print('Ваш знак зодиака: Рыбы')    \n",
    "print('Конец програмы')"
   ]
  },
  {
   "cell_type": "code",
   "execution_count": 6,
   "metadata": {},
   "outputs": [
    {
     "name": "stdout",
     "output_type": "stream",
     "text": [
      "Упаковка для лыж\n",
      "Конец программы\n"
     ]
    }
   ],
   "source": [
    "# Задача №4\n",
    "\n",
    "width = 10\n",
    "length = 205\n",
    "height = 5\n",
    "if (width < 15) & (length < 15) & (height < 15): print('Коробка №1')\n",
    "elif (15 < width < 50) | (15 < length < 50) | (15 < height < 50): print('Коробка №2')\n",
    "elif (length > 200): print('Упаковка для лыж')\n",
    "else: print('Стандартная коробка №3')\n",
    "print ('Конец программы')"
   ]
  },
  {
   "cell_type": "code",
   "execution_count": 7,
   "metadata": {},
   "outputs": [
    {
     "name": "stdout",
     "output_type": "stream",
     "text": [
      "6\n",
      "15\n",
      "Несчастливый билет\n",
      "Конец програмы\n"
     ]
    }
   ],
   "source": [
    "# Задача №5\n",
    "\n",
    "number = 123555\n",
    "d1 = number % 10\n",
    "d2 = number % 100 // 10\n",
    "d3 = number % 1000 // 100\n",
    "d4 = number % 10000 // 1000\n",
    "d5 = number %100000 //10000\n",
    "d6 = number // 100000\n",
    "print (d6 + d5 + d4)\n",
    "print (d3 + d2 + d1)\n",
    "if (d6 + d5 + d4) == (d3 + d2 + d1): print('Счастливый билет')\n",
    "else: print('Несчастливый билет')\n",
    "print('Конец програмы')"
   ]
  },
  {
   "cell_type": "code",
   "execution_count": 9,
   "metadata": {},
   "outputs": [
    {
     "name": "stdout",
     "output_type": "stream",
     "text": [
      "Введите тип фигуры: Прямоугольник\n",
      "Введите длину стороны А = \n",
      "1\n",
      "Введите длину стороны B = \n",
      "1\n",
      "Площадь прямоугольника = \n",
      "1\n",
      "Конец программы\n"
     ]
    }
   ],
   "source": [
    "# Задача №6\n",
    "\n",
    "user_input = (input('Введите тип фигуры: '))\n",
    "if user_input == \"Круг\": print(\"Введите радиус круга R = \"); r = int(input(\"\")); from math import pi; print(\"Площадь круга = \"); print(pi * (r ** 2))\n",
    "elif user_input == \"Прямоугольник\": print(\"Введите длину стороны А = \");A = int(input(\"\"));print(\"Введите длину стороны B = \");B = int(input(\"\"));print(\"Площадь прямоугольника = \");print(A * B)\n",
    "elif user_input == \"Треугольник\": print(\"Введите длину стороны А = \"); a = int(input(\"\")); print(\"Введите длину стороны B = \"); b = int(input(\"\")); print(\"Введите длину стороны C = \"); c = int(input(\"\")); from math import sqrt; print(\"Площадь треугольника = \");print(sqrt((1/2 *(a + b + c)) *(1/2 *(a + b + c) - a)*(1/2 *(a + b + c) - b) *(1/2 *(a + b + c) - c)))\n",
    "print(\"Конец программы\")\n",
    "    "
   ]
  }
 ],
 "metadata": {
  "kernelspec": {
   "display_name": "Python 3",
   "language": "python",
   "name": "python3"
  },
  "language_info": {
   "codemirror_mode": {
    "name": "ipython",
    "version": 3
   },
   "file_extension": ".py",
   "mimetype": "text/x-python",
   "name": "python",
   "nbconvert_exporter": "python",
   "pygments_lexer": "ipython3",
   "version": "3.8.3"
  }
 },
 "nbformat": 4,
 "nbformat_minor": 4
}
