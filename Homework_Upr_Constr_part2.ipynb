{
 "cells": [
  {
   "cell_type": "code",
   "execution_count": 47,
   "metadata": {},
   "outputs": [
    {
     "name": "stdout",
     "output_type": "stream",
     "text": [
      "{98, 35, 15, 213, 54, 119}\n"
     ]
    }
   ],
   "source": [
    "# task #1 - вывести на экран множество уникальных гео-меток всех пользователей\n",
    "\n",
    "ids = {'user1': [213, 213, 213, 15, 213], \n",
    "       'user2': [54, 54, 119, 119, 119], \n",
    "       'user3': [213, 98, 98, 35]}\n",
    "\n",
    "x=sum(list((ids.values())),[])\n",
    "y=set(x)\n",
    "print(y)"
   ]
  },
  {
   "cell_type": "code",
   "execution_count": 171,
   "metadata": {},
   "outputs": [
    {
     "name": "stdout",
     "output_type": "stream",
     "text": [
      "Поисковых запросов, содержащих 2 слов(а):  37.50 %\n",
      "Поисковых запросов, содержащих 3 слов(а):  50.00 %\n",
      "Поисковых запросов, содержащих 5 слов(а):  12.50 %\n"
     ]
    }
   ],
   "source": [
    "# task #2 - вывести на экран распределение количества слов в запросах в требуемом виде\n",
    "queries = [\n",
    "    'смотреть сериалы онлайн',\n",
    "    'новости спорта',\n",
    "    'афиша кино',\n",
    "    'курс доллара',\n",
    "    'сериалы этим летом',\n",
    "    'курс по питону',\n",
    "    'сериалы про спорт',\n",
    "    'если слов вдруг будет больше',\n",
    "]\n",
    "queries_list=[]\n",
    "for i, word in enumerate(queries):\n",
    "    x=len(queries[i].split(' '))\n",
    "    queries_list.append(x)\n",
    "    queries_dict = {n: queries_list.count(n) for n in queries_list}\n",
    "\n",
    "for n in sorted(queries_dict.keys()):\n",
    "    print('Поисковых запросов, содержащих', n, 'слов(а): ', '%.2f'%((queries_dict[n] / sum(queries_dict.values()))*100), '%')"
   ]
  },
  {
   "cell_type": "code",
   "execution_count": 299,
   "metadata": {},
   "outputs": [
    {
     "data": {
      "text/plain": [
       "{'vk': {'revenue': 103, 'cost': 98, 'ROI': '5.10'},\n",
       " 'yandex': {'revenue': 179, 'cost': 153, 'ROI': '16.99'},\n",
       " 'facebook': {'revenue': 103, 'cost': 110, 'ROI': '-6.36'},\n",
       " 'adwords': {'revenue': 35, 'cost': 34, 'ROI': '2.94'},\n",
       " 'twitter': {'revenue': 11, 'cost': 24, 'ROI': '-54.17'}}"
      ]
     },
     "execution_count": 299,
     "metadata": {},
     "output_type": "execute_result"
    }
   ],
   "source": [
    "# task #3 - дополнить исходную информацию о затратах и доходе показателем ROI\n",
    "\n",
    "results = {\n",
    "    'vk': {'revenue': 103, 'cost': 98},\n",
    "    'yandex': {'revenue': 179, 'cost': 153},\n",
    "    'facebook': {'revenue': 103, 'cost': 110},\n",
    "    'adwords': {'revenue': 35, 'cost': 34},\n",
    "    'twitter': {'revenue': 11, 'cost': 24},\n",
    "}\n",
    "\n",
    "for k, info in results.items():\n",
    "    info['ROI'] = '%.2f'% (((results[k]['revenue']/results[k]['cost'])-1)*100)\n",
    "\n",
    "results"
   ]
  },
  {
   "cell_type": "code",
   "execution_count": 257,
   "metadata": {},
   "outputs": [
    {
     "name": "stdout",
     "output_type": "stream",
     "text": [
      "Максимальный объем продаж на рекламном канале: vk\n"
     ]
    }
   ],
   "source": [
    "# task #4 - возвращать название канала с максимальным объемом продаж\n",
    "\n",
    "stats = {'facebook': 55, 'yandex': 115, 'vk': 120, 'google': 99, 'email': 42, 'ok': 98}\n",
    "\n",
    "max_value = max(stats.values())\n",
    "new_stats = {k:v for k, v in stats.items() if v == max_value}\n",
    "for k in new_stats.keys():\n",
    "    print('Максимальный объем продаж на рекламном канале:', k)"
   ]
  },
  {
   "cell_type": "code",
   "execution_count": 207,
   "metadata": {},
   "outputs": [
    {
     "name": "stdout",
     "output_type": "stream",
     "text": [
      "{'2018-01-01': {'yandex': {'cpc': 100}}}\n"
     ]
    }
   ],
   "source": [
    "# task #5 - написать код, который на основе исходного списка составит словарь такого уровня вложенности, какова длина исходного списка\n",
    "my_list = ['2018-01-01', 'yandex', 'cpc', 100]\n",
    "\n",
    "my_dict=my_list[-1]\n",
    "for i in reversed(my_list[:-1]):\n",
    "    my_dict= {i:my_dict}\n",
    "print(my_dict)"
   ]
  },
  {
   "cell_type": "code",
   "execution_count": 408,
   "metadata": {
    "scrolled": true
   },
   "outputs": [
    {
     "name": "stdout",
     "output_type": "stream",
     "text": [
      "Количество порций: 3\n",
      "сыр 150 гр\n",
      "томаты 6 шт\n",
      "огурцы 60 гр\n",
      "маслины 30 гр\n",
      "оливковое масло 60 мл\n",
      "салат 30 гр\n",
      "перец 60 гр\n",
      "сыр 60 гр\n",
      "колбаса 90 гр\n",
      "бекон 90 гр\n",
      "оливки 30 гр\n",
      "томаты 60 гр\n",
      "тесто 300 гр\n",
      "лимон 3 шт\n",
      "вода 600 мл\n",
      "сахар 30 гр\n",
      "лайм 60 гр\n"
     ]
    }
   ],
   "source": [
    "# task #6 - написать программу, которая будет запрашивать кол-во порций и отображать инфо о суммарном кол-ве требуемых ингредиентов\n",
    "# не нашла как можно объединить вложенные словари с двумя одинаковыми значениями по ключу :(\n",
    "\n",
    "cook_book = {\n",
    "    'салат': [\n",
    "     {'ingridient_name': 'сыр', 'quantity': 50, 'measure': 'гр'},\n",
    "     {'ingridient_name': 'томаты', 'quantity': 2, 'measure': 'шт'},\n",
    "     {'ingridient_name': 'огурцы', 'quantity': 20, 'measure': 'гр'},\n",
    "     {'ingridient_name': 'маслины', 'quantity': 10, 'measure': 'гр'},\n",
    "     {'ingridient_name': 'оливковое масло', 'quantity': 20, 'measure': 'мл'},\n",
    "     {'ingridient_name': 'салат', 'quantity': 10, 'measure': 'гр'},\n",
    "     {'ingridient_name': 'перец', 'quantity': 20, 'measure': 'гр'}\n",
    "    ],\n",
    "  'пицца': [\n",
    "     {'ingridient_name': 'сыр', 'quantity': 20, 'measure': 'гр'},\n",
    "     {'ingridient_name': 'колбаса', 'quantity': 30, 'measure': 'гр'},\n",
    "     {'ingridient_name': 'бекон', 'quantity': 30, 'measure': 'гр'},\n",
    "     {'ingridient_name': 'оливки', 'quantity': 10, 'measure': 'гр'},\n",
    "     {'ingridient_name': 'томаты', 'quantity': 20, 'measure': 'гр'},\n",
    "     {'ingridient_name': 'тесто', 'quantity': 100, 'measure': 'гр'},   \n",
    "    ],\n",
    "  'лимонад': [\n",
    "     {'ingridient_name': 'лимон', 'quantity': 1, 'measure': 'шт'},\n",
    "     {'ingridient_name': 'вода', 'quantity': 200, 'measure': 'мл'},\n",
    "     {'ingridient_name': 'сахар', 'quantity': 10, 'measure': 'гр'},\n",
    "     {'ingridient_name': 'лайм', 'quantity': 20, 'measure': 'гр'},    \n",
    "    ]\n",
    "}\n",
    "\n",
    "portion=int(input('Количество порций: '))\n",
    "new_book={}\n",
    "for key in cook_book:\n",
    "    for item in cook_book[key]:\n",
    "        new_book['ingridient_name'] = item['ingridient_name']\n",
    "        new_book['quantity']=item['quantity']*portion\n",
    "        new_book['measure']=item['measure']\n",
    "        print(new_book['ingridient_name'], new_book['quantity'], new_book['measure'])\n",
    "    "
   ]
  },
  {
   "cell_type": "code",
   "execution_count": null,
   "metadata": {},
   "outputs": [],
   "source": []
  }
 ],
 "metadata": {
  "kernelspec": {
   "display_name": "Python 3",
   "language": "python",
   "name": "python3"
  },
  "language_info": {
   "codemirror_mode": {
    "name": "ipython",
    "version": 3
   },
   "file_extension": ".py",
   "mimetype": "text/x-python",
   "name": "python",
   "nbconvert_exporter": "python",
   "pygments_lexer": "ipython3",
   "version": "3.8.3"
  }
 },
 "nbformat": 4,
 "nbformat_minor": 4
}
