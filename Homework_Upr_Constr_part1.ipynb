{
 "cells": [
  {
   "cell_type": "code",
   "execution_count": 26,
   "metadata": {},
   "outputs": [
    {
     "name": "stdout",
     "output_type": "stream",
     "text": [
      "t\n"
     ]
    }
   ],
   "source": [
    "#Task 1\n",
    "\n",
    "def get_middle(word):\n",
    "    idx = len(word) // 2\n",
    "    if len(word) % 2 == 0:\n",
    "        return word[idx-1:idx+1]\n",
    "    else:\n",
    "        return word[idx]\n",
    "\n",
    "print(get_middle(\"testing\"))"
   ]
  },
  {
   "cell_type": "code",
   "execution_count": 27,
   "metadata": {},
   "outputs": [
    {
     "name": "stdout",
     "output_type": "stream",
     "text": [
      "Введите число: 1\n",
      "Введите число: 2\n",
      "Введите число: 4\n",
      "Введите число: 6\n",
      "Введите число: 9\n",
      "Введите число: 0\n",
      "Результат 22\n"
     ]
    }
   ],
   "source": [
    "#Task 2 \n",
    "\n",
    "summary = 0\n",
    "num = int(input('Введите число: '))\n",
    "summary += num\n",
    "while num != 0:\n",
    "    num = int(input('Введите число: '))\n",
    "    summary += num    \n",
    "print ('Результат', summary)"
   ]
  },
  {
   "cell_type": "code",
   "execution_count": 30,
   "metadata": {},
   "outputs": [
    {
     "name": "stdout",
     "output_type": "stream",
     "text": [
      "Идеальные пары: \n",
      "Alex & Emma\n",
      "Arthur & Kate\n",
      "John & Kira\n",
      "Peter & Liza\n",
      "Richard & Trisha\n"
     ]
    }
   ],
   "source": [
    "#Task 3\n",
    "\n",
    "boys = ['Peter', 'Alex', 'John', 'Arthur', 'Richard']\n",
    "girls = ['Kate', 'Liza', 'Kira', 'Emma', 'Trisha']\n",
    "\n",
    "if len(boys) != len(girls): print ('Внимание, кто-то может остаться без пары!')\n",
    "elif len(boys) == len(girls):\n",
    "    boys_new = sorted(boys)\n",
    "    girls_new = sorted(girls)\n",
    "    perfect_couple = zip(boys_new, girls_new)\n",
    "    perfect_couple = list(perfect_couple)\n",
    "    print('Идеальные пары: ')\n",
    "    for name in perfect_couple:\n",
    "        print(name[0], '&', name[1])"
   ]
  },
  {
   "cell_type": "code",
   "execution_count": 2,
   "metadata": {},
   "outputs": [
    {
     "name": "stdout",
     "output_type": "stream",
     "text": [
      "Средняя температура в странах:\n",
      "Thailand - 23.9 C\n",
      "Germany - 13.8 C\n",
      "Russia - 3.7 C\n",
      "Poland - 12.0 C\n"
     ]
    }
   ],
   "source": [
    "#Task 4\n",
    "\n",
    "countries_temperature = [\n",
    "    ['Thailand', [75.2, 77, 78.8, 73.4, 68, 75.2, 77]],\n",
    "    ['Germany', [57.2, 55.4, 59, 59, 53.6]],\n",
    "    ['Russia', [35.6, 37.4, 39.2, 41, 42.8, 39.2, 35.6]],\n",
    "    ['Poland', [50, 50, 53.6, 57.2, 55.4, 55.4]]\n",
    "]\n",
    "\n",
    "i = 0\n",
    "n = 0\n",
    "import copy\n",
    "new_countries_temperature = copy.copy(countries_temperature)\n",
    "for row in countries_temperature:\n",
    "    average_t = (sum(countries_temperature[i][1]) / len(countries_temperature[i][1])-32)/9*5\n",
    "    i +=1\n",
    "    new_countries_temperature[n][1] = average_t\n",
    "    n +=1\n",
    "print ('Средняя температура в странах:')\n",
    "for element in new_countries_temperature:\n",
    "    print(element[0], '-', '%.1f'%element[1], 'C')"
   ]
  },
  {
   "cell_type": "code",
   "execution_count": 4,
   "metadata": {},
   "outputs": [
    {
     "name": "stdout",
     "output_type": "stream",
     "text": [
      "Среднее количество просмотров на уникального пользователя:  23.25\n"
     ]
    }
   ],
   "source": [
    "#Task 5\n",
    "stream = [\n",
    "    '2018-01-01,user1,3',\n",
    "    '2018-01-07,user1,4',\n",
    "    '2018-03-29,user1,1',\n",
    "    '2018-04-04,user1,13',\n",
    "    '2018-01-05,user2,7',\n",
    "    '2018-06-14,user3,4',\n",
    "    '2018-07-02,user3,10',\n",
    "    '2018-03-21,user4,19',\n",
    "    '2018-03-22,user4,4',\n",
    "    '2018-04-22,user4,8',\n",
    "    '2018-05-03,user4,9',\n",
    "    '2018-05-11,user4,11',\n",
    "]\n",
    "\n",
    "i=0\n",
    "new_stream_final = []\n",
    "for row in stream:\n",
    "    new_stream = stream[i][0:]\n",
    "    new_stream_each = new_stream.split(',')\n",
    "    i +=1\n",
    "    if new_stream_each not in new_stream_final:\n",
    "        new_stream_final.append(new_stream_each)\n",
    "        n=0\n",
    "        total_visit = 0\n",
    "        unic_users = []\n",
    "        for row in new_stream_final:\n",
    "            total_visit += int(new_stream_final[n][2])\n",
    "            x = new_stream_final[n][1]\n",
    "            n+=1\n",
    "            if x not in unic_users:\n",
    "                unic_users.append(x)\n",
    "print('Среднее количество просмотров на уникального пользователя: ', total_visit / len(unic_users))"
   ]
  },
  {
   "cell_type": "code",
   "execution_count": 3,
   "metadata": {},
   "outputs": [
    {
     "name": "stdout",
     "output_type": "stream",
     "text": [
      "12324547658779\n",
      "2, 4, 5, 7\n"
     ]
    }
   ],
   "source": [
    "x = list(map(int, input()))\n",
    "y=[]\n",
    "for idx in x:\n",
    "    if x.count(idx)>1:\n",
    "        if idx not in y:\n",
    "            y.append(idx)   \n",
    "print(*y, sep = \", \") "
   ]
  }
 ],
 "metadata": {
  "kernelspec": {
   "display_name": "Python 3",
   "language": "python",
   "name": "python3"
  },
  "language_info": {
   "codemirror_mode": {
    "name": "ipython",
    "version": 3
   },
   "file_extension": ".py",
   "mimetype": "text/x-python",
   "name": "python",
   "nbconvert_exporter": "python",
   "pygments_lexer": "ipython3",
   "version": "3.8.3"
  }
 },
 "nbformat": 4,
 "nbformat_minor": 4
}
