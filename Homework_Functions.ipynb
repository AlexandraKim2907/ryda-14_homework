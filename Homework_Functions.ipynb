{
 "cells": [
  {
   "cell_type": "code",
   "execution_count": 1,
   "metadata": {},
   "outputs": [],
   "source": [
    "# написать программу, которая будет на основе хранимых данных исполнять пользовательские команды\n",
    "# перечень всех документов\n",
    "documents = [\n",
    " {'type': 'passport', 'number': '2207 876234', 'name': 'Василий Гупкин'},\n",
    " {'type': 'invoice', 'number': '11-2', 'name': 'Геннадий Покемонов'},\n",
    " {'type': 'insurance', 'number': '10006', 'name': 'Аристарх Павлов'}\n",
    "]\n",
    "\n",
    "# перечень полок, на которых хранятся документы (если документ есть в documents, то он обязательно должен быть и в directories)\n",
    "directories = {\n",
    " '1': ['2207 876234', '11-2'],\n",
    " '2': ['10006'],\n",
    " '3': []\n",
    "}"
   ]
  },
  {
   "cell_type": "code",
   "execution_count": 2,
   "metadata": {},
   "outputs": [],
   "source": [
    "#1 Пользователь по команде \"p\" может узнать владельца документа по его номеру\n",
    "def p():\n",
    "    document_number = input('Введите номер документа: ')\n",
    "    for item in documents:\n",
    "        if item['number'] == document_number:\n",
    "            return (f'Владелец документа: {item[\"name\"]}')\n",
    "    return ('Документ не найден в базе')\n",
    "\n",
    "##print(p())"
   ]
  },
  {
   "cell_type": "code",
   "execution_count": 3,
   "metadata": {},
   "outputs": [],
   "source": [
    "#2 Пользователь по команде \"s\" может по номеру документа узнать на какой полке он хранится\n",
    "def s():\n",
    "    document_number = input('Введите номер документа: ')\n",
    "    for item in directories:\n",
    "        if document_number in directories[item]:\n",
    "            return(f'Документ хранится на полке: {item}')\n",
    "    return('Документ не найден в базе')\n",
    "\n",
    "##print(s())"
   ]
  },
  {
   "cell_type": "code",
   "execution_count": 4,
   "metadata": {},
   "outputs": [],
   "source": [
    "#3 Пользователь по команде \"l\" может увидеть полную информацию по всем документам (номер, тип, владелец, полка)\n",
    "\n",
    "def l():\n",
    "    for types in documents:\n",
    "        number = types['number']\n",
    "        doc_type = types['type']\n",
    "        name = types['name']\n",
    "        for key in directories:\n",
    "            if number in directories[key]:\n",
    "                shelf = key\n",
    "                print (f'№: {number}, тип: {doc_type}, владелец: {name}, полка хранения: {shelf}')\n",
    "\n",
    "##print(l())"
   ]
  },
  {
   "cell_type": "code",
   "execution_count": 5,
   "metadata": {},
   "outputs": [],
   "source": [
    "#4 Пользователь по команде \"ads\" может добавить новую полку\n",
    "\n",
    "def ads():\n",
    "    shelf_number = input('Введите номер полки:')\n",
    "    if shelf_number in directories.keys():\n",
    "        return (f'Такая полка уже существует. Текущий перечень полок: {[i for i in directories.keys()]}')\n",
    "    elif shelf_number not in directories.keys():\n",
    "        directories[shelf_number] = []\n",
    "        return (f'Полка добавлена. Текущий перечень полок: {[i for i in directories.keys()]}')\n",
    "\n",
    "##print(ads())"
   ]
  },
  {
   "cell_type": "code",
   "execution_count": 6,
   "metadata": {},
   "outputs": [],
   "source": [
    "#5 Пользователь по команде \"ds\" может удалить существующую полку из данных (только если она пустая)\n",
    "\n",
    "def ds():\n",
    "    shelf_number = input('Введите номер полки:')\n",
    "    if shelf_number not in directories.keys():\n",
    "        return (f'Такой полки не существует. Текущий перечень полок: {[i for i in directories.keys()]}')\n",
    "    if directories[shelf_number] == []:\n",
    "        directories.pop(shelf_number)\n",
    "        return (f'Полка удалена. Текущий перечень полок: {[i for i in directories.keys()]}')\n",
    "    else: return (f'На полке есть документы, удалите их перед удалением полки. Текущий перечень полок: {[i for i in directories.keys()]}')\n",
    "\n",
    "##print(ds())"
   ]
  },
  {
   "cell_type": "code",
   "execution_count": 7,
   "metadata": {},
   "outputs": [],
   "source": [
    "#2.1 Пользователь по команде \"ad\" может добавить новый документ в данные\n",
    "\n",
    "def ad():\n",
    "    doc_number = input('Введите номер документа: ')\n",
    "    doc_type = input('Введите тип документа: ')\n",
    "    doc_owner = input('Введите владельца документа: ')\n",
    "    shelf_number = input('Введите полку для хранения:')\n",
    "    \n",
    "    new_doc = dict(type = doc_type, number = doc_number, name = doc_owner)\n",
    "    documents.append(new_doc)\n",
    "    if shelf_number not in directories.keys():\n",
    "        return(f'Такой полки не существует. Добавьте полку командой as.')\n",
    "    elif shelf_number in directories.keys():\n",
    "        directories[shelf_number] += [doc_number]\n",
    "        return(f'Документ добавлен.')\n",
    "        \n",
    "##print(ad())"
   ]
  },
  {
   "cell_type": "code",
   "execution_count": 8,
   "metadata": {},
   "outputs": [],
   "source": [
    "#2.2 Пользователь по команде “d” может удалить документ из данных\n",
    "\n",
    "def d():\n",
    "    doc_number = input('Введите номер документа')\n",
    "    for i in range(len(documents)):\n",
    "        if documents[i]['number'] == doc_number:\n",
    "            del(documents[i])\n",
    "            for value in directories.values():\n",
    "                if doc_number in value:\n",
    "                    value.remove(doc_number)\n",
    "                    return('Документ успешно удален.')\n",
    "    return('Документ не найден в базе.')\n",
    "\n",
    "##print(d())"
   ]
  },
  {
   "cell_type": "code",
   "execution_count": 9,
   "metadata": {},
   "outputs": [],
   "source": [
    "#2.3 Пользователь по команде “m” может переместить документ с полки на полку\n",
    "\n",
    "def m():\n",
    "    doc_number = input('Введите номер документа')\n",
    "    for key, value in directories.items():\n",
    "        if doc_number in value:\n",
    "            shelf_number = input('Введите полку для хранения:')\n",
    "            if shelf_number not in directories.keys():\n",
    "                return (f'Такой полки не существует. Текущий перечень полок: {[i for i in directories.keys()]}')\n",
    "            else:\n",
    "                directories[shelf_number] += [doc_number]\n",
    "                value.remove(doc_number)\n",
    "                return (f'Документ перемещен.')\n",
    "    return(f'Документ не найден в базе.')\n",
    "    \n",
    "##print(m())"
   ]
  },
  {
   "cell_type": "code",
   "execution_count": 12,
   "metadata": {
    "scrolled": true
   },
   "outputs": [
    {
     "name": "stdout",
     "output_type": "stream",
     "text": [
      "Введите командуp\n",
      "Введите номер документа: 11-1\n",
      "Документ не найден в базе\n",
      "Введите командуp\n",
      "Введите номер документа: 11-2\n",
      "Владелец документа: Геннадий Покемонов\n",
      "Введите командуs\n",
      "Введите номер документа: 10009\n",
      "Документ не найден в базе\n",
      "Введите командуs\n",
      "Введите номер документа: 10006\n",
      "Документ хранится на полке: 2\n",
      "Введите командуl\n",
      "№: 2207 876234, тип: passport, владелец: Василий Гупкин, полка хранения: 1\n",
      "№: 11-2, тип: invoice, владелец: Геннадий Покемонов, полка хранения: 1\n",
      "№: 10006, тип: insurance, владелец: Аристарх Павлов, полка хранения: 2\n",
      "None\n",
      "Введите командуads\n",
      "Введите номер полки:7\n",
      "Полка добавлена. Текущий перечень полок: ['1', '2', '3', '7']\n",
      "Введите командуads\n",
      "Введите номер полки:9\n",
      "Полка добавлена. Текущий перечень полок: ['1', '2', '3', '7', '9']\n",
      "Введите командуads\n",
      "Введите номер полки:3\n",
      "Такая полка уже существует. Текущий перечень полок: ['1', '2', '3', '7', '9']\n",
      "Введите командуds\n",
      "Введите номер полки:1\n",
      "На полке есть документы, удалите их перед удалением полки. Текущий перечень полок: ['1', '2', '3', '7', '9']\n",
      "Введите командуds\n",
      "Введите номер полки:11\n",
      "Такой полки не существует. Текущий перечень полок: ['1', '2', '3', '7', '9']\n",
      "Введите командуds\n",
      "Введите номер полки:7\n",
      "Полка удалена. Текущий перечень полок: ['1', '2', '3', '9']\n",
      "Введите командуad\n",
      "Введите номер документа: 333\n",
      "Введите тип документа: contract\n",
      "Введите владельца документа: Belkin\n",
      "Введите полку для хранения:9\n",
      "Документ добавлен.\n",
      "№: 2207 876234, тип: passport, владелец: Василий Гупкин, полка хранения: 1\n",
      "№: 11-2, тип: invoice, владелец: Геннадий Покемонов, полка хранения: 1\n",
      "№: 10006, тип: insurance, владелец: Аристарх Павлов, полка хранения: 2\n",
      "№: 333, тип: contract, владелец: Belkin, полка хранения: 9\n",
      "None\n",
      "Введите командуad\n",
      "Введите номер документа: 777\n",
      "Введите тип документа: offer\n",
      "Введите владельца документа: Lacky\n",
      "Введите полку для хранения:7\n",
      "Такой полки не существует. Добавьте полку командой as.\n",
      "№: 2207 876234, тип: passport, владелец: Василий Гупкин, полка хранения: 1\n",
      "№: 11-2, тип: invoice, владелец: Геннадий Покемонов, полка хранения: 1\n",
      "№: 10006, тип: insurance, владелец: Аристарх Павлов, полка хранения: 2\n",
      "№: 333, тип: contract, владелец: Belkin, полка хранения: 9\n",
      "None\n",
      "Введите командуd\n",
      "Введите номер документа333\n",
      "Документ успешно удален.\n",
      "№: 2207 876234, тип: passport, владелец: Василий Гупкин, полка хранения: 1\n",
      "№: 11-2, тип: invoice, владелец: Геннадий Покемонов, полка хранения: 1\n",
      "№: 10006, тип: insurance, владелец: Аристарх Павлов, полка хранения: 2\n",
      "None\n",
      "Введите командуd\n",
      "Введите номер документа10009\n",
      "Документ не найден в базе.\n",
      "№: 2207 876234, тип: passport, владелец: Василий Гупкин, полка хранения: 1\n",
      "№: 11-2, тип: invoice, владелец: Геннадий Покемонов, полка хранения: 1\n",
      "№: 10006, тип: insurance, владелец: Аристарх Павлов, полка хранения: 2\n",
      "None\n",
      "Введите командуm\n",
      "Введите номер документа11-2\n",
      "Введите полку для хранения:9\n",
      "Документ перемещен.\n",
      "№: 2207 876234, тип: passport, владелец: Василий Гупкин, полка хранения: 1\n",
      "№: 11-2, тип: invoice, владелец: Геннадий Покемонов, полка хранения: 9\n",
      "№: 10006, тип: insurance, владелец: Аристарх Павлов, полка хранения: 2\n",
      "None\n",
      "Введите командуq\n"
     ]
    }
   ],
   "source": [
    "def main():\n",
    "    while True:\n",
    "        user_input = input('Введите команду')\n",
    "        if user_input == 'p':\n",
    "            print(p())\n",
    "        elif user_input == 's':\n",
    "            print(s())\n",
    "        elif user_input == 'l':\n",
    "            print(l())\n",
    "        elif user_input == 'ads':\n",
    "            print(ads())\n",
    "        elif user_input == 'ds':\n",
    "            print(ds())\n",
    "        elif user_input == 'ad':\n",
    "            print(ad())\n",
    "            print(l())\n",
    "        elif user_input == 'd':\n",
    "            print(d())\n",
    "            print(l())\n",
    "        elif user_input == 'm':\n",
    "            print(m())\n",
    "            print(l())\n",
    "        elif user_input == 'q':\n",
    "            break\n",
    "            \n",
    "main()"
   ]
  },
  {
   "cell_type": "code",
   "execution_count": 14,
   "metadata": {},
   "outputs": [
    {
     "data": {
      "text/plain": [
       "{'1': ['2207 876234'], '2': ['10006'], '3': [], '9': ['11-2']}"
      ]
     },
     "execution_count": 14,
     "metadata": {},
     "output_type": "execute_result"
    }
   ],
   "source": [
    "##documents\n",
    "directories"
   ]
  }
 ],
 "metadata": {
  "kernelspec": {
   "display_name": "Python 3",
   "language": "python",
   "name": "python3"
  },
  "language_info": {
   "codemirror_mode": {
    "name": "ipython",
    "version": 3
   },
   "file_extension": ".py",
   "mimetype": "text/x-python",
   "name": "python",
   "nbconvert_exporter": "python",
   "pygments_lexer": "ipython3",
   "version": "3.8.3"
  }
 },
 "nbformat": 4,
 "nbformat_minor": 4
}
