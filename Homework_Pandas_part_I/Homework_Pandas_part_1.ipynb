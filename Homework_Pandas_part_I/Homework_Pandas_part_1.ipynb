{
 "cells": [
  {
   "cell_type": "code",
   "execution_count": 20,
   "metadata": {},
   "outputs": [],
   "source": [
    "import pandas as pd"
   ]
  },
  {
   "cell_type": "code",
   "execution_count": 21,
   "metadata": {},
   "outputs": [],
   "source": [
    "# Task 1 - Скачайте с сайта https://grouplens.org/datasets/movielens/ датасет любого размера.\n",
    "# Определите какому фильму было выставлено больше всего оценок 5.0"
   ]
  },
  {
   "cell_type": "code",
   "execution_count": 22,
   "metadata": {},
   "outputs": [],
   "source": [
    "df = pd.read_csv('ratings.csv')"
   ]
  },
  {
   "cell_type": "code",
   "execution_count": 29,
   "metadata": {},
   "outputs": [
    {
     "data": {
      "text/html": [
       "<div>\n",
       "<style scoped>\n",
       "    .dataframe tbody tr th:only-of-type {\n",
       "        vertical-align: middle;\n",
       "    }\n",
       "\n",
       "    .dataframe tbody tr th {\n",
       "        vertical-align: top;\n",
       "    }\n",
       "\n",
       "    .dataframe thead th {\n",
       "        text-align: right;\n",
       "    }\n",
       "</style>\n",
       "<table border=\"1\" class=\"dataframe\">\n",
       "  <thead>\n",
       "    <tr style=\"text-align: right;\">\n",
       "      <th></th>\n",
       "      <th>movieId</th>\n",
       "      <th>userId</th>\n",
       "    </tr>\n",
       "  </thead>\n",
       "  <tbody>\n",
       "    <tr>\n",
       "      <th>0</th>\n",
       "      <td>318</td>\n",
       "      <td>153</td>\n",
       "    </tr>\n",
       "  </tbody>\n",
       "</table>\n",
       "</div>"
      ],
      "text/plain": [
       "   movieId  userId\n",
       "0      318     153"
      ]
     },
     "execution_count": 29,
     "metadata": {},
     "output_type": "execute_result"
    }
   ],
   "source": [
    "the_best_movie = df.query('rating == 5.0').groupby('movieId').count()[['userId']].sort_values('userId', ascending = False)\n",
    "the_best_movie.reset_index().head(1)"
   ]
  },
  {
   "cell_type": "code",
   "execution_count": 5,
   "metadata": {},
   "outputs": [
    {
     "data": {
      "text/plain": [
       "318    153\n",
       "Name: movieId, dtype: int64"
      ]
     },
     "execution_count": 5,
     "metadata": {},
     "output_type": "execute_result"
    }
   ],
   "source": [
    "list_of_best_rating = df.query('rating == 5.0')['movieId'].value_counts()\n",
    "list_of_best_rating.head(1)"
   ]
  },
  {
   "cell_type": "code",
   "execution_count": 6,
   "metadata": {},
   "outputs": [],
   "source": [
    "# Task 2 - По данным файла power.csv посчитайте суммарное потребление стран Прибалтики (Латвия, Литва и Эстония)\n",
    "# категорий 4, 12 и 21 за период с 2005 по 2010 года.\n",
    "# Не учитывайте в расчетах отрицательные значения quantity"
   ]
  },
  {
   "cell_type": "code",
   "execution_count": 7,
   "metadata": {},
   "outputs": [],
   "source": [
    "data = pd.read_csv('power.csv')"
   ]
  },
  {
   "cell_type": "code",
   "execution_count": 8,
   "metadata": {},
   "outputs": [],
   "source": [
    "#следующие три шага можно пропустить, сделала их для проверки"
   ]
  },
  {
   "cell_type": "code",
   "execution_count": 9,
   "metadata": {},
   "outputs": [
    {
     "data": {
      "text/plain": [
       "array(['Latvia'], dtype=object)"
      ]
     },
     "execution_count": 9,
     "metadata": {},
     "output_type": "execute_result"
    }
   ],
   "source": [
    "data[data['country'].str.contains('latv', case = False)]['country'].unique()"
   ]
  },
  {
   "cell_type": "code",
   "execution_count": 10,
   "metadata": {},
   "outputs": [
    {
     "data": {
      "text/plain": [
       "array(['Lithuania'], dtype=object)"
      ]
     },
     "execution_count": 10,
     "metadata": {},
     "output_type": "execute_result"
    }
   ],
   "source": [
    "data[data['country'].str.contains('lit', case = False)]['country'].unique()"
   ]
  },
  {
   "cell_type": "code",
   "execution_count": 11,
   "metadata": {},
   "outputs": [
    {
     "data": {
      "text/plain": [
       "array(['Estonia'], dtype=object)"
      ]
     },
     "execution_count": 11,
     "metadata": {},
     "output_type": "execute_result"
    }
   ],
   "source": [
    "data[data['country'].str.contains('eston', case = False)]['country'].unique()"
   ]
  },
  {
   "cell_type": "code",
   "execution_count": 12,
   "metadata": {},
   "outputs": [],
   "source": [
    "filtered_countries = data[(data['country'] == 'Latvia')|(data['country'] == 'Lithuania')|(data['country'] == 'Estonia')]"
   ]
  },
  {
   "cell_type": "code",
   "execution_count": 13,
   "metadata": {},
   "outputs": [],
   "source": [
    "consumption = filtered_countries.query('quantity > 0')"
   ]
  },
  {
   "cell_type": "code",
   "execution_count": 14,
   "metadata": {},
   "outputs": [
    {
     "name": "stdout",
     "output_type": "stream",
     "text": [
      "240580.0\n"
     ]
    }
   ],
   "source": [
    "baltic_consumption = consumption[((consumption['category'] == 4)|(consumption['category'] == 12)|(consumption['category'] == 21))&((consumption['year'] >= 2005)&(consumption['year'] <= 2010))]\n",
    "print(sum(baltic_consumption['quantity']))"
   ]
  },
  {
   "cell_type": "code",
   "execution_count": 15,
   "metadata": {},
   "outputs": [],
   "source": [
    "# Task 3 - Выберите страницу любого сайта с табличными данными. Импортируйте таблицы в pandas dataframe"
   ]
  },
  {
   "cell_type": "code",
   "execution_count": 16,
   "metadata": {
    "scrolled": true
   },
   "outputs": [
    {
     "data": {
      "text/html": [
       "<div>\n",
       "<style scoped>\n",
       "    .dataframe tbody tr th:only-of-type {\n",
       "        vertical-align: middle;\n",
       "    }\n",
       "\n",
       "    .dataframe tbody tr th {\n",
       "        vertical-align: top;\n",
       "    }\n",
       "\n",
       "    .dataframe thead th {\n",
       "        text-align: right;\n",
       "    }\n",
       "</style>\n",
       "<table border=\"1\" class=\"dataframe\">\n",
       "  <thead>\n",
       "    <tr style=\"text-align: right;\">\n",
       "      <th></th>\n",
       "      <th>Период усреднения  обязательных резервов  (указан первый день)</th>\n",
       "      <th>Фактические среднедневные остатки средств на корсчетах</th>\n",
       "      <th>Обязательные резервы, подлежащие усреднению на корсчетах</th>\n",
       "      <th>Обязательные резервы на счетах для их учета</th>\n",
       "    </tr>\n",
       "  </thead>\n",
       "  <tbody>\n",
       "    <tr>\n",
       "      <th>0</th>\n",
       "      <td>09.09.2020</td>\n",
       "      <td>2 699,0</td>\n",
       "      <td>2 633,9</td>\n",
       "      <td>6732</td>\n",
       "    </tr>\n",
       "    <tr>\n",
       "      <th>1</th>\n",
       "      <td>05.08.2020</td>\n",
       "      <td>2 631,7</td>\n",
       "      <td>2 577,9</td>\n",
       "      <td>6592</td>\n",
       "    </tr>\n",
       "    <tr>\n",
       "      <th>2</th>\n",
       "      <td>08.07.2020</td>\n",
       "      <td>2 589,6</td>\n",
       "      <td>2 528,5</td>\n",
       "      <td>6467</td>\n",
       "    </tr>\n",
       "    <tr>\n",
       "      <th>3</th>\n",
       "      <td>10.06.2020</td>\n",
       "      <td>2 635,7</td>\n",
       "      <td>2 569,5</td>\n",
       "      <td>6563</td>\n",
       "    </tr>\n",
       "    <tr>\n",
       "      <th>4</th>\n",
       "      <td>13.05.2020</td>\n",
       "      <td>2 699,5</td>\n",
       "      <td>2 634,6</td>\n",
       "      <td>6713</td>\n",
       "    </tr>\n",
       "    <tr>\n",
       "      <th>5</th>\n",
       "      <td>08.04.2020</td>\n",
       "      <td>2 684,8</td>\n",
       "      <td>2 604,9</td>\n",
       "      <td>6648</td>\n",
       "    </tr>\n",
       "    <tr>\n",
       "      <th>6</th>\n",
       "      <td>11.03.2020</td>\n",
       "      <td>2 536,4</td>\n",
       "      <td>2 430,8</td>\n",
       "      <td>6220</td>\n",
       "    </tr>\n",
       "    <tr>\n",
       "      <th>7</th>\n",
       "      <td>12.02.2020</td>\n",
       "      <td>2 474,1</td>\n",
       "      <td>2 398,3</td>\n",
       "      <td>6127</td>\n",
       "    </tr>\n",
       "    <tr>\n",
       "      <th>8</th>\n",
       "      <td>15.01.2020</td>\n",
       "      <td>2 479,3</td>\n",
       "      <td>2 418,4</td>\n",
       "      <td>6176</td>\n",
       "    </tr>\n",
       "    <tr>\n",
       "      <th>9</th>\n",
       "      <td>11.12.2019</td>\n",
       "      <td>2 526,4</td>\n",
       "      <td>2 427,8</td>\n",
       "      <td>6174</td>\n",
       "    </tr>\n",
       "    <tr>\n",
       "      <th>10</th>\n",
       "      <td>06.11.2019</td>\n",
       "      <td>2 499,1</td>\n",
       "      <td>2 436,2</td>\n",
       "      <td>6194</td>\n",
       "    </tr>\n",
       "    <tr>\n",
       "      <th>11</th>\n",
       "      <td>09.10.2019</td>\n",
       "      <td>2 488,6</td>\n",
       "      <td>2 430,2</td>\n",
       "      <td>6189</td>\n",
       "    </tr>\n",
       "  </tbody>\n",
       "</table>\n",
       "</div>"
      ],
      "text/plain": [
       "   Период усреднения  обязательных резервов  (указан первый день)  \\\n",
       "0                                          09.09.2020               \n",
       "1                                          05.08.2020               \n",
       "2                                          08.07.2020               \n",
       "3                                          10.06.2020               \n",
       "4                                          13.05.2020               \n",
       "5                                          08.04.2020               \n",
       "6                                          11.03.2020               \n",
       "7                                          12.02.2020               \n",
       "8                                          15.01.2020               \n",
       "9                                          11.12.2019               \n",
       "10                                         06.11.2019               \n",
       "11                                         09.10.2019               \n",
       "\n",
       "   Фактические среднедневные остатки средств на корсчетах  \\\n",
       "0                                             2 699,0       \n",
       "1                                             2 631,7       \n",
       "2                                             2 589,6       \n",
       "3                                             2 635,7       \n",
       "4                                             2 699,5       \n",
       "5                                             2 684,8       \n",
       "6                                             2 536,4       \n",
       "7                                             2 474,1       \n",
       "8                                             2 479,3       \n",
       "9                                             2 526,4       \n",
       "10                                            2 499,1       \n",
       "11                                            2 488,6       \n",
       "\n",
       "   Обязательные резервы, подлежащие усреднению на корсчетах  \\\n",
       "0                                             2 633,9         \n",
       "1                                             2 577,9         \n",
       "2                                             2 528,5         \n",
       "3                                             2 569,5         \n",
       "4                                             2 634,6         \n",
       "5                                             2 604,9         \n",
       "6                                             2 430,8         \n",
       "7                                             2 398,3         \n",
       "8                                             2 418,4         \n",
       "9                                             2 427,8         \n",
       "10                                            2 436,2         \n",
       "11                                            2 430,2         \n",
       "\n",
       "    Обязательные резервы на счетах для их учета  \n",
       "0                                          6732  \n",
       "1                                          6592  \n",
       "2                                          6467  \n",
       "3                                          6563  \n",
       "4                                          6713  \n",
       "5                                          6648  \n",
       "6                                          6220  \n",
       "7                                          6127  \n",
       "8                                          6176  \n",
       "9                                          6174  \n",
       "10                                         6194  \n",
       "11                                         6189  "
      ]
     },
     "execution_count": 16,
     "metadata": {},
     "output_type": "execute_result"
    }
   ],
   "source": [
    "url = 'http://cbr.ru/hd_base/RReserves/'\n",
    "df = pd.read_html(url)[0]\n",
    "df.head(20)"
   ]
  }
 ],
 "metadata": {
  "kernelspec": {
   "display_name": "Python 3",
   "language": "python",
   "name": "python3"
  },
  "language_info": {
   "codemirror_mode": {
    "name": "ipython",
    "version": 3
   },
   "file_extension": ".py",
   "mimetype": "text/x-python",
   "name": "python",
   "nbconvert_exporter": "python",
   "pygments_lexer": "ipython3",
   "version": "3.8.3"
  }
 },
 "nbformat": 4,
 "nbformat_minor": 4
}
