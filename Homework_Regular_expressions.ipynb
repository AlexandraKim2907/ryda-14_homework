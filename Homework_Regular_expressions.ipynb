{
 "cells": [
  {
   "cell_type": "code",
   "execution_count": 13,
   "metadata": {},
   "outputs": [],
   "source": [
    "import re"
   ]
  },
  {
   "cell_type": "code",
   "execution_count": 14,
   "metadata": {},
   "outputs": [],
   "source": [
    "# Task 1. Напишите функцию, которая принимает на вход строку и проверяет является ли она валидным транспортным номером.\n",
    "car_id = 'А222ВС96'"
   ]
  },
  {
   "cell_type": "code",
   "execution_count": 15,
   "metadata": {},
   "outputs": [
    {
     "name": "stdout",
     "output_type": "stream",
     "text": [
      "Номер валиден А222ВС. Регион: 96\n"
     ]
    }
   ],
   "source": [
    "regex_car_id = r'([АВЕКМНОРСТУХ]\\d{3}[ВС]{2})(\\d{2})'\n",
    "valid_car_id = re.search(regex_car_id, car_id)\n",
    "print(f'Номер валиден {valid_car_id.group(1)}. Регион: {valid_car_id.group(2)}' if valid_car_id else 'Номер не валиден')"
   ]
  },
  {
   "cell_type": "code",
   "execution_count": 16,
   "metadata": {},
   "outputs": [],
   "source": [
    "# Task 2. Напишите функцию, которая будет удалять все последовательные повторы слов из заданной строки при помощи РВ\n",
    "some_string = 'Напишите функцию функцию, которая будет будет будет будет удалять все все все все последовательные повторы слов из из из из заданной строки строки при помощи регулярных выражений'"
   ]
  },
  {
   "cell_type": "code",
   "execution_count": 17,
   "metadata": {},
   "outputs": [
    {
     "data": {
      "text/plain": [
       "'Напишите функцию, которая будет удалять все последовательные повторы слов из заданной строки при помощи регулярных выражений'"
      ]
     },
     "execution_count": 17,
     "metadata": {},
     "output_type": "execute_result"
    }
   ],
   "source": [
    "re.sub(r'\\b([^\\W\\d_]+)(\\s+\\1)+\\b', r'\\1', some_string)"
   ]
  },
  {
   "cell_type": "code",
   "execution_count": 22,
   "metadata": {},
   "outputs": [],
   "source": [
    "#Task 3. Напишите функцию, которая будет возвращать акроним по переданной в нее строке со словами\n",
    "some_words = 'Информационные технологии'"
   ]
  },
  {
   "cell_type": "code",
   "execution_count": 23,
   "metadata": {},
   "outputs": [
    {
     "name": "stdout",
     "output_type": "stream",
     "text": [
      "ИТ"
     ]
    }
   ],
   "source": [
    "acronym = re.findall(r'(^[а-яёА-ЯЁ]|(?<=[^\\w])[а-яёА-ЯЁ]|(?<![а-яёА-ЯЁ])[а-яёА-ЯЁ])', some_words)\n",
    "for letter in acronym:\n",
    "    print(letter.upper(), end='')"
   ]
  },
  {
   "cell_type": "code",
   "execution_count": 25,
   "metadata": {},
   "outputs": [],
   "source": [
    "some_words_1 = 'Near Field Communication'"
   ]
  },
  {
   "cell_type": "code",
   "execution_count": 26,
   "metadata": {},
   "outputs": [
    {
     "name": "stdout",
     "output_type": "stream",
     "text": [
      "NFC"
     ]
    }
   ],
   "source": [
    "acronym_1 = re.findall(r'(^[A-Za-z]|(?<=[^\\w])[A-Za-z]|(?<![A-Z])[A-Z])', some_words_1)\n",
    "for letter in acronym_1:\n",
    "    print(letter.upper(), end='')"
   ]
  },
  {
   "cell_type": "code",
   "execution_count": 60,
   "metadata": {},
   "outputs": [],
   "source": [
    "# Task 4. Напишите функцию, которая будет принимать на вход список email-адресов и выводить их распределение по доменным зонам.\n",
    "emails = ['test@gmail.com', 'xyz@test.in', 'test@ya.ru', 'xyz@mail.ru', 'xyz@ya.ru', 'xyz@gmail.com']"
   ]
  },
  {
   "cell_type": "code",
   "execution_count": 96,
   "metadata": {},
   "outputs": [
    {
     "name": "stdout",
     "output_type": "stream",
     "text": [
      "@gmail.com\n",
      "@test.in\n",
      "@ya.ru\n",
      "@mail.ru\n",
      "@ya.ru\n",
      "@gmail.com\n"
     ]
    }
   ],
   "source": [
    "for email in emails:\n",
    "    domain = ''.join(re.findall(r'@.+', email))\n",
    "    print(domain)"
   ]
  },
  {
   "cell_type": "code",
   "execution_count": 9,
   "metadata": {},
   "outputs": [],
   "source": [
    "# Task 5. Напишите функцию, которая будет подсчитывать сколько слов начинается на гласные, а сколько на согласные буквы в тексте.\n",
    "some_text = 'Эталонной реализацией Python является интерпретатор CPython, поддерживающий большинство активно используемых платформ. Он распространяется под свободной лицензией Python Software Foundation License, позволяющей использовать его без ограничений в любых приложениях, включая проприетарные.'"
   ]
  },
  {
   "cell_type": "code",
   "execution_count": 10,
   "metadata": {},
   "outputs": [],
   "source": [
    "# Task 6. Напишите функцию, которая будет проверять номер сотового телефона на валидность (только для российского формата),\n",
    "# если он валиден, то переводить его в формат: +7-xxx-xxx-xx-xx"
   ]
  }
 ],
 "metadata": {
  "kernelspec": {
   "display_name": "Python 3",
   "language": "python",
   "name": "python3"
  },
  "language_info": {
   "codemirror_mode": {
    "name": "ipython",
    "version": 3
   },
   "file_extension": ".py",
   "mimetype": "text/x-python",
   "name": "python",
   "nbconvert_exporter": "python",
   "pygments_lexer": "ipython3",
   "version": "3.8.3"
  }
 },
 "nbformat": 4,
 "nbformat_minor": 4
}
