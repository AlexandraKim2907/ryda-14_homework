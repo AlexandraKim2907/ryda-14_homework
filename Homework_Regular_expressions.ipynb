{
 "cells": [
  {
   "cell_type": "code",
   "execution_count": 1,
   "metadata": {},
   "outputs": [],
   "source": [
    "import re"
   ]
  },
  {
   "cell_type": "code",
   "execution_count": 2,
   "metadata": {},
   "outputs": [],
   "source": [
    "# Task 1. Напишите функцию, которая принимает на вход строку и проверяет является ли она валидным транспортным номером.\n",
    "car_id = 'А222ВС96'"
   ]
  },
  {
   "cell_type": "code",
   "execution_count": 3,
   "metadata": {},
   "outputs": [
    {
     "name": "stdout",
     "output_type": "stream",
     "text": [
      "Номер валиден А222ВС. Регион: 96\n"
     ]
    }
   ],
   "source": [
    "regex_car_id = r'([АВЕКМНОРСТУХ]\\d{3}[ВС]{2})(\\d{2})'\n",
    "valid_car_id = re.search(regex_car_id, car_id)\n",
    "print(f'Номер валиден {valid_car_id.group(1)}. Регион: {valid_car_id.group(2)}' if valid_car_id else 'Номер не валиден')"
   ]
  },
  {
   "cell_type": "code",
   "execution_count": 4,
   "metadata": {},
   "outputs": [],
   "source": [
    "# Task 2. Напишите функцию, которая будет удалять все последовательные повторы слов из заданной строки при помощи РВ\n",
    "some_string = 'Напишите функцию функцию, которая будет будет будет будет удалять все все все все последовательные повторы слов из из из из заданной строки строки при помощи регулярных выражений'"
   ]
  },
  {
   "cell_type": "code",
   "execution_count": 5,
   "metadata": {},
   "outputs": [
    {
     "data": {
      "text/plain": [
       "'Напишите функцию, которая будет удалять все последовательные повторы слов из заданной строки при помощи регулярных выражений'"
      ]
     },
     "execution_count": 5,
     "metadata": {},
     "output_type": "execute_result"
    }
   ],
   "source": [
    "re.sub(r'\\b([^\\W\\d_]+)(\\s+\\1)+\\b', r'\\1', some_string)"
   ]
  },
  {
   "cell_type": "code",
   "execution_count": 6,
   "metadata": {},
   "outputs": [],
   "source": [
    "#Task 3. Напишите функцию, которая будет возвращать акроним по переданной в нее строке со словами\n",
    "some_words = 'Информационные технологии'"
   ]
  },
  {
   "cell_type": "code",
   "execution_count": 7,
   "metadata": {},
   "outputs": [
    {
     "name": "stdout",
     "output_type": "stream",
     "text": [
      "ИТ"
     ]
    }
   ],
   "source": [
    "acronym = re.findall(r'(^[а-яёА-ЯЁ]|(?<=[^\\w])[а-яёА-ЯЁ]|(?<![а-яёА-ЯЁ])[а-яёА-ЯЁ])', some_words)\n",
    "for letter in acronym:\n",
    "    print(letter.upper(), end='')"
   ]
  },
  {
   "cell_type": "code",
   "execution_count": 8,
   "metadata": {},
   "outputs": [],
   "source": [
    "some_words_1 = 'Near Field Communication'"
   ]
  },
  {
   "cell_type": "code",
   "execution_count": 9,
   "metadata": {},
   "outputs": [
    {
     "name": "stdout",
     "output_type": "stream",
     "text": [
      "NFC"
     ]
    }
   ],
   "source": [
    "acronym_1 = re.findall(r'(^[A-Za-z]|(?<=[^\\w])[A-Za-z]|(?<![A-Z])[A-Z])', some_words_1)\n",
    "for letter in acronym_1:\n",
    "    print(letter.upper(), end='')"
   ]
  },
  {
   "cell_type": "code",
   "execution_count": 10,
   "metadata": {},
   "outputs": [],
   "source": [
    "# Task 4. Напишите функцию, которая будет принимать на вход список email-адресов и выводить их распределение по доменным зонам.\n",
    "emails = ['test@gmail.com', 'xyz@test.in', 'test@ya.ru', 'xyz@mail.ru', 'xyz@ya.ru', 'xyz@gmail.com']"
   ]
  },
  {
   "cell_type": "code",
   "execution_count": 11,
   "metadata": {},
   "outputs": [
    {
     "name": "stdout",
     "output_type": "stream",
     "text": [
      "gmail.com: 2\n",
      "test.in: 1\n",
      "ya.ru: 2\n",
      "mail.ru: 1\n"
     ]
    }
   ],
   "source": [
    "domain = []\n",
    "for email in emails:\n",
    "    domain.append(''.join(re.findall(r'@(.+)', email)))\n",
    "    \n",
    "    domain_dict = {}\n",
    "    for dom in domain:\n",
    "        if dom not in domain_dict:\n",
    "            domain_dict[dom] = 1\n",
    "        else:\n",
    "            domain_dict[dom] += 1\n",
    "\n",
    "for k, v in domain_dict.items():\n",
    "    print(f'{k}: {v}')"
   ]
  },
  {
   "cell_type": "code",
   "execution_count": 12,
   "metadata": {},
   "outputs": [],
   "source": [
    "# Task 5. Напишите функцию, которая будет подсчитывать сколько слов начинается на гласные, а сколько на согласные буквы в тексте.\n",
    "some_text = 'Эталонной реализацией Python является интерпретатор CPython, поддерживающий большинство активно используемых платформ. Он распространяется под свободной лицензией Python Software Foundation License, позволяющей использовать его без ограничений в любых приложениях, включая проприетарные.'"
   ]
  },
  {
   "cell_type": "code",
   "execution_count": 13,
   "metadata": {},
   "outputs": [
    {
     "name": "stdout",
     "output_type": "stream",
     "text": [
      "Слов на гласные буквы: 9 \n",
      "Слов на согласные буквы: 21\n"
     ]
    }
   ],
   "source": [
    "total = re.findall(r'\\w+', some_text)\n",
    "vowel=re.findall(r'\\b[аАяЯоОеЕуУюЮыиИэЭёЁaAeEiIoOuU]\\w+', some_text)\n",
    "print(f'Слов на гласные буквы: {len(vowel)} \\nСлов на согласные буквы: {len(total) - len(vowel)}')"
   ]
  },
  {
   "cell_type": "code",
   "execution_count": 14,
   "metadata": {},
   "outputs": [
    {
     "name": "stdout",
     "output_type": "stream",
     "text": [
      "['Эталонной', 'является', 'интерпретатор', 'активно', 'используемых', 'Он', 'использовать', 'его', 'ограничений']\n",
      "['реализацией', 'Python', 'CPython', 'поддерживающий', 'большинство', 'платформ', 'распространяется', 'под', 'свободной', 'лицензией', 'Python', 'Software', 'Foundation', 'License', 'позволяющей', 'без', 'в', 'любых', 'приложениях', 'включая', 'проприетарные']\n",
      "Слов на гласные буквы: 9 \n",
      "Слов на согласные буквы: 21\n"
     ]
    }
   ],
   "source": [
    "vowel=re.findall(r'\\b[аАяЯоОеЕуУюЮыиИэЭёЁaAeEiIoOuU]\\w+', some_text)\n",
    "consonant = re.findall(r'\\b[^аАяЯоОеЕуУюЮыиИэЭёЁaAeEiIoOuU,. ]\\w*', some_text)\n",
    "print(vowel)\n",
    "print(consonant)\n",
    "print(f'Слов на гласные буквы: {len(vowel)} \\nСлов на согласные буквы: {len(consonant)}')"
   ]
  },
  {
   "cell_type": "code",
   "execution_count": 15,
   "metadata": {},
   "outputs": [],
   "source": [
    "# Task 6. Напишите функцию, которая будет проверять номер сотового телефона на валидность (только для российского формата),\n",
    "# если он валиден, то переводить его в формат: +7-xxx-xxx-xx-xx"
   ]
  },
  {
   "cell_type": "code",
   "execution_count": 16,
   "metadata": {},
   "outputs": [],
   "source": [
    "phone = '+7 955 555-55-55'\n",
    "#phone = '8(955)222-33-23'\n",
    "#phone = '+7 955 555 55 55'\n",
    "#phone = '7(955) 616-55-55'\n",
    "#phone = '423-555-55-5555'\n",
    "#phone = '123-456-789'"
   ]
  },
  {
   "cell_type": "code",
   "execution_count": 17,
   "metadata": {},
   "outputs": [
    {
     "name": "stdout",
     "output_type": "stream",
     "text": [
      "+7-955-555-55-55\n"
     ]
    }
   ],
   "source": [
    "valid_number = re.search(r'^((\\+7|[7,8])?[\\-,\\ ]?)\\(?(\\d{3})\\)?\\ ?(\\d{3})[\\-,\\ ]?(\\d{2})[\\-,\\ ]?(\\d{2})$', phone)\n",
    "new_format = re.sub(r'^((\\+7|[7,8])?[\\-,\\ ]?)\\(?(\\d{3})\\)?\\ ?(\\d{3})[\\-,\\ ]?(\\d{2})[\\-,\\ ]?(\\d{2})$', r'+7-\\3-\\4-\\5-\\6', phone)\n",
    "print(f'{new_format}' if valid_number else 'Номер не валиден')"
   ]
  }
 ],
 "metadata": {
  "kernelspec": {
   "display_name": "Python 3",
   "language": "python",
   "name": "python3"
  },
  "language_info": {
   "codemirror_mode": {
    "name": "ipython",
    "version": 3
   },
   "file_extension": ".py",
   "mimetype": "text/x-python",
   "name": "python",
   "nbconvert_exporter": "python",
   "pygments_lexer": "ipython3",
   "version": "3.8.3"
  }
 },
 "nbformat": 4,
 "nbformat_minor": 4
}
